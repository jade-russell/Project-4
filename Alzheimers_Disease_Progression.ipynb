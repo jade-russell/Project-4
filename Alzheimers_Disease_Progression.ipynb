{
 "cells": [
  {
   "cell_type": "code",
   "execution_count": 1,
   "id": "4ad6894a-1599-4a34-82e8-3a3debd1b570",
   "metadata": {},
   "outputs": [
    {
     "name": "stdout",
     "output_type": "stream",
     "text": [
      "Requirement already satisfied: pandas in c:\\users\\aslat\\.anaconda\\.anacondaredo\\lib\\site-packages (2.2.2)\n",
      "Requirement already satisfied: numpy in c:\\users\\aslat\\.anaconda\\.anacondaredo\\lib\\site-packages (1.26.4)\n",
      "Requirement already satisfied: scikit-learn in c:\\users\\aslat\\.anaconda\\.anacondaredo\\lib\\site-packages (1.4.2)\n",
      "Requirement already satisfied: matplotlib in c:\\users\\aslat\\.anaconda\\.anacondaredo\\lib\\site-packages (3.9.2)\n",
      "Requirement already satisfied: seaborn in c:\\users\\aslat\\.anaconda\\.anacondaredo\\lib\\site-packages (0.13.2)\n",
      "Requirement already satisfied: sqlalchemy in c:\\users\\aslat\\.anaconda\\.anacondaredo\\lib\\site-packages (2.0.30)\n",
      "Requirement already satisfied: tensorflow in c:\\users\\aslat\\.anaconda\\.anacondaredo\\lib\\site-packages (2.18.0)\n",
      "Requirement already satisfied: keras in c:\\users\\aslat\\.anaconda\\.anacondaredo\\lib\\site-packages (3.8.0)\n",
      "Requirement already satisfied: python-dateutil>=2.8.2 in c:\\users\\aslat\\.anaconda\\.anacondaredo\\lib\\site-packages (from pandas) (2.9.0.post0)\n",
      "Requirement already satisfied: pytz>=2020.1 in c:\\users\\aslat\\.anaconda\\.anacondaredo\\lib\\site-packages (from pandas) (2024.1)\n",
      "Requirement already satisfied: tzdata>=2022.7 in c:\\users\\aslat\\.anaconda\\.anacondaredo\\lib\\site-packages (from pandas) (2023.3)\n",
      "Requirement already satisfied: scipy>=1.6.0 in c:\\users\\aslat\\.anaconda\\.anacondaredo\\lib\\site-packages (from scikit-learn) (1.13.1)\n",
      "Requirement already satisfied: joblib>=1.2.0 in c:\\users\\aslat\\.anaconda\\.anacondaredo\\lib\\site-packages (from scikit-learn) (1.4.2)\n",
      "Requirement already satisfied: threadpoolctl>=2.0.0 in c:\\users\\aslat\\.anaconda\\.anacondaredo\\lib\\site-packages (from scikit-learn) (2.2.0)\n",
      "Requirement already satisfied: contourpy>=1.0.1 in c:\\users\\aslat\\.anaconda\\.anacondaredo\\lib\\site-packages (from matplotlib) (1.2.0)\n",
      "Requirement already satisfied: cycler>=0.10 in c:\\users\\aslat\\.anaconda\\.anacondaredo\\lib\\site-packages (from matplotlib) (0.11.0)\n",
      "Requirement already satisfied: fonttools>=4.22.0 in c:\\users\\aslat\\.anaconda\\.anacondaredo\\lib\\site-packages (from matplotlib) (4.51.0)\n",
      "Requirement already satisfied: kiwisolver>=1.3.1 in c:\\users\\aslat\\.anaconda\\.anacondaredo\\lib\\site-packages (from matplotlib) (1.4.4)\n",
      "Requirement already satisfied: packaging>=20.0 in c:\\users\\aslat\\.anaconda\\.anacondaredo\\lib\\site-packages (from matplotlib) (23.2)\n",
      "Requirement already satisfied: pillow>=8 in c:\\users\\aslat\\.anaconda\\.anacondaredo\\lib\\site-packages (from matplotlib) (10.3.0)\n",
      "Requirement already satisfied: pyparsing>=2.3.1 in c:\\users\\aslat\\.anaconda\\.anacondaredo\\lib\\site-packages (from matplotlib) (3.0.9)\n",
      "Requirement already satisfied: typing-extensions>=4.6.0 in c:\\users\\aslat\\.anaconda\\.anacondaredo\\lib\\site-packages (from sqlalchemy) (4.11.0)\n",
      "Requirement already satisfied: greenlet!=0.4.17 in c:\\users\\aslat\\.anaconda\\.anacondaredo\\lib\\site-packages (from sqlalchemy) (3.0.1)\n",
      "Requirement already satisfied: tensorflow-intel==2.18.0 in c:\\users\\aslat\\.anaconda\\.anacondaredo\\lib\\site-packages (from tensorflow) (2.18.0)\n",
      "Requirement already satisfied: absl-py>=1.0.0 in c:\\users\\aslat\\.anaconda\\.anacondaredo\\lib\\site-packages (from tensorflow-intel==2.18.0->tensorflow) (2.1.0)\n",
      "Requirement already satisfied: astunparse>=1.6.0 in c:\\users\\aslat\\.anaconda\\.anacondaredo\\lib\\site-packages (from tensorflow-intel==2.18.0->tensorflow) (1.6.3)\n",
      "Requirement already satisfied: flatbuffers>=24.3.25 in c:\\users\\aslat\\.anaconda\\.anacondaredo\\lib\\site-packages (from tensorflow-intel==2.18.0->tensorflow) (25.2.10)\n",
      "Requirement already satisfied: gast!=0.5.0,!=0.5.1,!=0.5.2,>=0.2.1 in c:\\users\\aslat\\.anaconda\\.anacondaredo\\lib\\site-packages (from tensorflow-intel==2.18.0->tensorflow) (0.6.0)\n",
      "Requirement already satisfied: google-pasta>=0.1.1 in c:\\users\\aslat\\.anaconda\\.anacondaredo\\lib\\site-packages (from tensorflow-intel==2.18.0->tensorflow) (0.2.0)\n",
      "Requirement already satisfied: libclang>=13.0.0 in c:\\users\\aslat\\.anaconda\\.anacondaredo\\lib\\site-packages (from tensorflow-intel==2.18.0->tensorflow) (18.1.1)\n",
      "Requirement already satisfied: opt-einsum>=2.3.2 in c:\\users\\aslat\\.anaconda\\.anacondaredo\\lib\\site-packages (from tensorflow-intel==2.18.0->tensorflow) (3.4.0)\n",
      "Requirement already satisfied: protobuf!=4.21.0,!=4.21.1,!=4.21.2,!=4.21.3,!=4.21.4,!=4.21.5,<6.0.0dev,>=3.20.3 in c:\\users\\aslat\\.anaconda\\.anacondaredo\\lib\\site-packages (from tensorflow-intel==2.18.0->tensorflow) (3.20.3)\n",
      "Requirement already satisfied: requests<3,>=2.21.0 in c:\\users\\aslat\\.anaconda\\.anacondaredo\\lib\\site-packages (from tensorflow-intel==2.18.0->tensorflow) (2.32.2)\n",
      "Requirement already satisfied: setuptools in c:\\users\\aslat\\.anaconda\\.anacondaredo\\lib\\site-packages (from tensorflow-intel==2.18.0->tensorflow) (69.5.1)\n",
      "Requirement already satisfied: six>=1.12.0 in c:\\users\\aslat\\.anaconda\\.anacondaredo\\lib\\site-packages (from tensorflow-intel==2.18.0->tensorflow) (1.16.0)\n",
      "Requirement already satisfied: termcolor>=1.1.0 in c:\\users\\aslat\\.anaconda\\.anacondaredo\\lib\\site-packages (from tensorflow-intel==2.18.0->tensorflow) (2.5.0)\n",
      "Requirement already satisfied: wrapt>=1.11.0 in c:\\users\\aslat\\.anaconda\\.anacondaredo\\lib\\site-packages (from tensorflow-intel==2.18.0->tensorflow) (1.14.1)\n",
      "Requirement already satisfied: grpcio<2.0,>=1.24.3 in c:\\users\\aslat\\.anaconda\\.anacondaredo\\lib\\site-packages (from tensorflow-intel==2.18.0->tensorflow) (1.70.0)\n",
      "Requirement already satisfied: tensorboard<2.19,>=2.18 in c:\\users\\aslat\\.anaconda\\.anacondaredo\\lib\\site-packages (from tensorflow-intel==2.18.0->tensorflow) (2.18.0)\n",
      "Requirement already satisfied: h5py>=3.11.0 in c:\\users\\aslat\\.anaconda\\.anacondaredo\\lib\\site-packages (from tensorflow-intel==2.18.0->tensorflow) (3.11.0)\n",
      "Requirement already satisfied: ml-dtypes<0.5.0,>=0.4.0 in c:\\users\\aslat\\.anaconda\\.anacondaredo\\lib\\site-packages (from tensorflow-intel==2.18.0->tensorflow) (0.4.1)\n",
      "Requirement already satisfied: rich in c:\\users\\aslat\\.anaconda\\.anacondaredo\\lib\\site-packages (from keras) (13.3.5)\n",
      "Requirement already satisfied: namex in c:\\users\\aslat\\.anaconda\\.anacondaredo\\lib\\site-packages (from keras) (0.0.8)\n",
      "Requirement already satisfied: optree in c:\\users\\aslat\\.anaconda\\.anacondaredo\\lib\\site-packages (from keras) (0.14.0)\n",
      "Requirement already satisfied: markdown-it-py<3.0.0,>=2.2.0 in c:\\users\\aslat\\.anaconda\\.anacondaredo\\lib\\site-packages (from rich->keras) (2.2.0)\n",
      "Requirement already satisfied: pygments<3.0.0,>=2.13.0 in c:\\users\\aslat\\.anaconda\\.anacondaredo\\lib\\site-packages (from rich->keras) (2.15.1)\n",
      "Requirement already satisfied: wheel<1.0,>=0.23.0 in c:\\users\\aslat\\.anaconda\\.anacondaredo\\lib\\site-packages (from astunparse>=1.6.0->tensorflow-intel==2.18.0->tensorflow) (0.43.0)\n",
      "Requirement already satisfied: mdurl~=0.1 in c:\\users\\aslat\\.anaconda\\.anacondaredo\\lib\\site-packages (from markdown-it-py<3.0.0,>=2.2.0->rich->keras) (0.1.0)\n",
      "Requirement already satisfied: charset-normalizer<4,>=2 in c:\\users\\aslat\\.anaconda\\.anacondaredo\\lib\\site-packages (from requests<3,>=2.21.0->tensorflow-intel==2.18.0->tensorflow) (2.0.4)\n",
      "Requirement already satisfied: idna<4,>=2.5 in c:\\users\\aslat\\.anaconda\\.anacondaredo\\lib\\site-packages (from requests<3,>=2.21.0->tensorflow-intel==2.18.0->tensorflow) (3.7)\n",
      "Requirement already satisfied: urllib3<3,>=1.21.1 in c:\\users\\aslat\\.anaconda\\.anacondaredo\\lib\\site-packages (from requests<3,>=2.21.0->tensorflow-intel==2.18.0->tensorflow) (2.2.2)\n",
      "Requirement already satisfied: certifi>=2017.4.17 in c:\\users\\aslat\\.anaconda\\.anacondaredo\\lib\\site-packages (from requests<3,>=2.21.0->tensorflow-intel==2.18.0->tensorflow) (2024.8.30)\n",
      "Requirement already satisfied: markdown>=2.6.8 in c:\\users\\aslat\\.anaconda\\.anacondaredo\\lib\\site-packages (from tensorboard<2.19,>=2.18->tensorflow-intel==2.18.0->tensorflow) (3.4.1)\n",
      "Requirement already satisfied: tensorboard-data-server<0.8.0,>=0.7.0 in c:\\users\\aslat\\.anaconda\\.anacondaredo\\lib\\site-packages (from tensorboard<2.19,>=2.18->tensorflow-intel==2.18.0->tensorflow) (0.7.2)\n",
      "Requirement already satisfied: werkzeug>=1.0.1 in c:\\users\\aslat\\.anaconda\\.anacondaredo\\lib\\site-packages (from tensorboard<2.19,>=2.18->tensorflow-intel==2.18.0->tensorflow) (3.0.3)\n",
      "Requirement already satisfied: MarkupSafe>=2.1.1 in c:\\users\\aslat\\.anaconda\\.anacondaredo\\lib\\site-packages (from werkzeug>=1.0.1->tensorboard<2.19,>=2.18->tensorflow-intel==2.18.0->tensorflow) (2.1.3)\n"
     ]
    }
   ],
   "source": [
    "!pip install pandas numpy scikit-learn matplotlib seaborn sqlalchemy tensorflow keras"
   ]
  },
  {
   "cell_type": "code",
   "execution_count": 2,
   "id": "29b31df7-ebfe-48ce-8ab4-bda29a41a873",
   "metadata": {},
   "outputs": [],
   "source": [
    "import pandas as pd\n",
    "import numpy as np\n",
    "import matplotlib.pyplot as plt\n",
    "import seaborn as sns\n",
    "from sklearn.model_selection import train_test_split\n",
    "from sklearn.preprocessing import StandardScaler, LabelEncoder\n",
    "from sklearn.ensemble import RandomForestClassifier\n",
    "from sklearn.metrics import accuracy_score, classification_report, confusion_matrix\n",
    "from sqlalchemy import create_engine"
   ]
  },
  {
   "cell_type": "code",
   "execution_count": 3,
   "id": "769a80d7-e5d1-4392-8cab-6b9dcec71fcb",
   "metadata": {},
   "outputs": [
    {
     "data": {
      "text/html": [
       "<div>\n",
       "<style scoped>\n",
       "    .dataframe tbody tr th:only-of-type {\n",
       "        vertical-align: middle;\n",
       "    }\n",
       "\n",
       "    .dataframe tbody tr th {\n",
       "        vertical-align: top;\n",
       "    }\n",
       "\n",
       "    .dataframe thead th {\n",
       "        text-align: right;\n",
       "    }\n",
       "</style>\n",
       "<table border=\"1\" class=\"dataframe\">\n",
       "  <thead>\n",
       "    <tr style=\"text-align: right;\">\n",
       "      <th></th>\n",
       "      <th>PatientID</th>\n",
       "      <th>Age</th>\n",
       "      <th>Gender</th>\n",
       "      <th>Ethnicity</th>\n",
       "      <th>EducationLevel</th>\n",
       "      <th>BMI</th>\n",
       "      <th>Smoking</th>\n",
       "      <th>AlcoholConsumption</th>\n",
       "      <th>PhysicalActivity</th>\n",
       "      <th>DietQuality</th>\n",
       "      <th>...</th>\n",
       "      <th>MemoryComplaints</th>\n",
       "      <th>BehavioralProblems</th>\n",
       "      <th>ADL</th>\n",
       "      <th>Confusion</th>\n",
       "      <th>Disorientation</th>\n",
       "      <th>PersonalityChanges</th>\n",
       "      <th>DifficultyCompletingTasks</th>\n",
       "      <th>Forgetfulness</th>\n",
       "      <th>Diagnosis</th>\n",
       "      <th>DoctorInCharge</th>\n",
       "    </tr>\n",
       "  </thead>\n",
       "  <tbody>\n",
       "    <tr>\n",
       "      <th>0</th>\n",
       "      <td>4751</td>\n",
       "      <td>73</td>\n",
       "      <td>0</td>\n",
       "      <td>0</td>\n",
       "      <td>2</td>\n",
       "      <td>22.927749</td>\n",
       "      <td>0</td>\n",
       "      <td>13.297218</td>\n",
       "      <td>6.327112</td>\n",
       "      <td>1.347214</td>\n",
       "      <td>...</td>\n",
       "      <td>0</td>\n",
       "      <td>0</td>\n",
       "      <td>1.725883</td>\n",
       "      <td>0</td>\n",
       "      <td>0</td>\n",
       "      <td>0</td>\n",
       "      <td>1</td>\n",
       "      <td>0</td>\n",
       "      <td>0</td>\n",
       "      <td>XXXConfid</td>\n",
       "    </tr>\n",
       "    <tr>\n",
       "      <th>1</th>\n",
       "      <td>4752</td>\n",
       "      <td>89</td>\n",
       "      <td>0</td>\n",
       "      <td>0</td>\n",
       "      <td>0</td>\n",
       "      <td>26.827681</td>\n",
       "      <td>0</td>\n",
       "      <td>4.542524</td>\n",
       "      <td>7.619885</td>\n",
       "      <td>0.518767</td>\n",
       "      <td>...</td>\n",
       "      <td>0</td>\n",
       "      <td>0</td>\n",
       "      <td>2.592424</td>\n",
       "      <td>0</td>\n",
       "      <td>0</td>\n",
       "      <td>0</td>\n",
       "      <td>0</td>\n",
       "      <td>1</td>\n",
       "      <td>0</td>\n",
       "      <td>XXXConfid</td>\n",
       "    </tr>\n",
       "    <tr>\n",
       "      <th>2</th>\n",
       "      <td>4753</td>\n",
       "      <td>73</td>\n",
       "      <td>0</td>\n",
       "      <td>3</td>\n",
       "      <td>1</td>\n",
       "      <td>17.795882</td>\n",
       "      <td>0</td>\n",
       "      <td>19.555085</td>\n",
       "      <td>7.844988</td>\n",
       "      <td>1.826335</td>\n",
       "      <td>...</td>\n",
       "      <td>0</td>\n",
       "      <td>0</td>\n",
       "      <td>7.119548</td>\n",
       "      <td>0</td>\n",
       "      <td>1</td>\n",
       "      <td>0</td>\n",
       "      <td>1</td>\n",
       "      <td>0</td>\n",
       "      <td>0</td>\n",
       "      <td>XXXConfid</td>\n",
       "    </tr>\n",
       "    <tr>\n",
       "      <th>3</th>\n",
       "      <td>4754</td>\n",
       "      <td>74</td>\n",
       "      <td>1</td>\n",
       "      <td>0</td>\n",
       "      <td>1</td>\n",
       "      <td>33.800817</td>\n",
       "      <td>1</td>\n",
       "      <td>12.209266</td>\n",
       "      <td>8.428001</td>\n",
       "      <td>7.435604</td>\n",
       "      <td>...</td>\n",
       "      <td>0</td>\n",
       "      <td>1</td>\n",
       "      <td>6.481226</td>\n",
       "      <td>0</td>\n",
       "      <td>0</td>\n",
       "      <td>0</td>\n",
       "      <td>0</td>\n",
       "      <td>0</td>\n",
       "      <td>0</td>\n",
       "      <td>XXXConfid</td>\n",
       "    </tr>\n",
       "    <tr>\n",
       "      <th>4</th>\n",
       "      <td>4755</td>\n",
       "      <td>89</td>\n",
       "      <td>0</td>\n",
       "      <td>0</td>\n",
       "      <td>0</td>\n",
       "      <td>20.716974</td>\n",
       "      <td>0</td>\n",
       "      <td>18.454356</td>\n",
       "      <td>6.310461</td>\n",
       "      <td>0.795498</td>\n",
       "      <td>...</td>\n",
       "      <td>0</td>\n",
       "      <td>0</td>\n",
       "      <td>0.014691</td>\n",
       "      <td>0</td>\n",
       "      <td>0</td>\n",
       "      <td>1</td>\n",
       "      <td>1</td>\n",
       "      <td>0</td>\n",
       "      <td>0</td>\n",
       "      <td>XXXConfid</td>\n",
       "    </tr>\n",
       "  </tbody>\n",
       "</table>\n",
       "<p>5 rows × 35 columns</p>\n",
       "</div>"
      ],
      "text/plain": [
       "   PatientID  Age  Gender  Ethnicity  EducationLevel        BMI  Smoking  \\\n",
       "0       4751   73       0          0               2  22.927749        0   \n",
       "1       4752   89       0          0               0  26.827681        0   \n",
       "2       4753   73       0          3               1  17.795882        0   \n",
       "3       4754   74       1          0               1  33.800817        1   \n",
       "4       4755   89       0          0               0  20.716974        0   \n",
       "\n",
       "   AlcoholConsumption  PhysicalActivity  DietQuality  ...  MemoryComplaints  \\\n",
       "0           13.297218          6.327112     1.347214  ...                 0   \n",
       "1            4.542524          7.619885     0.518767  ...                 0   \n",
       "2           19.555085          7.844988     1.826335  ...                 0   \n",
       "3           12.209266          8.428001     7.435604  ...                 0   \n",
       "4           18.454356          6.310461     0.795498  ...                 0   \n",
       "\n",
       "   BehavioralProblems       ADL  Confusion  Disorientation  \\\n",
       "0                   0  1.725883          0               0   \n",
       "1                   0  2.592424          0               0   \n",
       "2                   0  7.119548          0               1   \n",
       "3                   1  6.481226          0               0   \n",
       "4                   0  0.014691          0               0   \n",
       "\n",
       "   PersonalityChanges  DifficultyCompletingTasks  Forgetfulness  Diagnosis  \\\n",
       "0                   0                          1              0          0   \n",
       "1                   0                          0              1          0   \n",
       "2                   0                          1              0          0   \n",
       "3                   0                          0              0          0   \n",
       "4                   1                          1              0          0   \n",
       "\n",
       "   DoctorInCharge  \n",
       "0       XXXConfid  \n",
       "1       XXXConfid  \n",
       "2       XXXConfid  \n",
       "3       XXXConfid  \n",
       "4       XXXConfid  \n",
       "\n",
       "[5 rows x 35 columns]"
      ]
     },
     "execution_count": 3,
     "metadata": {},
     "output_type": "execute_result"
    }
   ],
   "source": [
    "file_path = \"alzheimers_disease_data.csv\"  \n",
    "df = pd.read_csv(file_path)\n",
    "\n",
    "df.head()"
   ]
  },
  {
   "cell_type": "code",
   "execution_count": 4,
   "id": "631819f8-a40c-4ec1-a4f5-18db9f8ee898",
   "metadata": {},
   "outputs": [
    {
     "name": "stdout",
     "output_type": "stream",
     "text": [
      "Missing values per column:\n",
      " PatientID                    0\n",
      "Age                          0\n",
      "Gender                       0\n",
      "Ethnicity                    0\n",
      "EducationLevel               0\n",
      "BMI                          0\n",
      "Smoking                      0\n",
      "AlcoholConsumption           0\n",
      "PhysicalActivity             0\n",
      "DietQuality                  0\n",
      "SleepQuality                 0\n",
      "FamilyHistoryAlzheimers      0\n",
      "CardiovascularDisease        0\n",
      "Diabetes                     0\n",
      "Depression                   0\n",
      "HeadInjury                   0\n",
      "Hypertension                 0\n",
      "SystolicBP                   0\n",
      "DiastolicBP                  0\n",
      "CholesterolTotal             0\n",
      "CholesterolLDL               0\n",
      "CholesterolHDL               0\n",
      "CholesterolTriglycerides     0\n",
      "MMSE                         0\n",
      "FunctionalAssessment         0\n",
      "MemoryComplaints             0\n",
      "BehavioralProblems           0\n",
      "ADL                          0\n",
      "Confusion                    0\n",
      "Disorientation               0\n",
      "PersonalityChanges           0\n",
      "DifficultyCompletingTasks    0\n",
      "Forgetfulness                0\n",
      "Diagnosis                    0\n",
      "DoctorInCharge               0\n",
      "dtype: int64\n"
     ]
    }
   ],
   "source": [
    "print(\"Missing values per column:\\n\", df.isnull().sum())\n",
    "\n",
    "df = df.dropna()"
   ]
  },
  {
   "cell_type": "code",
   "execution_count": 5,
   "id": "9270c76b-4f66-4f39-830c-cb6ca0186f50",
   "metadata": {},
   "outputs": [],
   "source": [
    "le = LabelEncoder()\n",
    "df['Diagnosis'] = le.fit_transform(df['Diagnosis'])"
   ]
  },
  {
   "cell_type": "code",
   "execution_count": 7,
   "id": "6a842186-aea5-4532-aa6f-a20a4ff526e5",
   "metadata": {},
   "outputs": [
    {
     "name": "stdout",
     "output_type": "stream",
     "text": [
      "Index(['PatientID', 'Age', 'Gender', 'Ethnicity', 'EducationLevel', 'BMI',\n",
      "       'Smoking', 'AlcoholConsumption', 'PhysicalActivity', 'DietQuality',\n",
      "       'SleepQuality', 'FamilyHistoryAlzheimers', 'CardiovascularDisease',\n",
      "       'Diabetes', 'Depression', 'HeadInjury', 'Hypertension', 'SystolicBP',\n",
      "       'DiastolicBP', 'CholesterolTotal', 'CholesterolLDL', 'CholesterolHDL',\n",
      "       'CholesterolTriglycerides', 'MMSE', 'FunctionalAssessment',\n",
      "       'MemoryComplaints', 'BehavioralProblems', 'ADL', 'Confusion',\n",
      "       'Disorientation', 'PersonalityChanges', 'DifficultyCompletingTasks',\n",
      "       'Forgetfulness', 'Diagnosis', 'DoctorInCharge'],\n",
      "      dtype='object')\n"
     ]
    }
   ],
   "source": [
    "print(df.columns)"
   ]
  },
  {
   "cell_type": "code",
   "execution_count": 8,
   "id": "ace28570-7b08-492c-b388-c68a00e9d1f0",
   "metadata": {},
   "outputs": [
    {
     "name": "stdout",
     "output_type": "stream",
     "text": [
      "Feature selection successful. Proceeding with modeling.\n"
     ]
    }
   ],
   "source": [
    "# Define new feature set based on actual dataset columns\n",
    "features = ['Age', 'MMSE', 'FunctionalAssessment', 'MemoryComplaints', \n",
    "            'BehavioralProblems', 'Confusion', 'Disorientation', \n",
    "            'PersonalityChanges', 'DifficultyCompletingTasks', 'Forgetfulness',\n",
    "            'CardiovascularDisease', 'Diabetes', 'Depression', 'Hypertension', \n",
    "            'Smoking', 'AlcoholConsumption', 'PhysicalActivity', 'DietQuality', 'SleepQuality',\n",
    "            'SystolicBP', 'DiastolicBP', 'CholesterolTotal', 'CholesterolLDL', \n",
    "            'CholesterolHDL', 'CholesterolTriglycerides']\n",
    "\n",
    "# Ensure we only use available columns in the dataset\n",
    "selected_features = [col for col in features if col in df.columns]\n",
    "\n",
    "# Extract features and target variable\n",
    "X = df[selected_features]\n",
    "y = df['Diagnosis']  # Ensure this column exists\n",
    "\n",
    "# Standardize numerical features\n",
    "scaler = StandardScaler()\n",
    "X_scaled = scaler.fit_transform(X)\n",
    "\n",
    "print(\"Feature selection successful. Proceeding with modeling.\")"
   ]
  },
  {
   "cell_type": "code",
   "execution_count": 9,
   "id": "87c07257-5543-4553-ae14-2f997e1c032f",
   "metadata": {},
   "outputs": [
    {
     "name": "stdout",
     "output_type": "stream",
     "text": [
      "Missing values per column:\n",
      " Series([], dtype: int64)\n"
     ]
    }
   ],
   "source": [
    "missing_values = df[selected_features].isnull().sum()\n",
    "print(\"Missing values per column:\\n\", missing_values[missing_values > 0])"
   ]
  },
  {
   "cell_type": "code",
   "execution_count": 10,
   "id": "17f24c0d-8d16-4905-ad56-8273febe95dc",
   "metadata": {},
   "outputs": [],
   "source": [
    "X = df[selected_features]  \n",
    "y = df['Diagnosis']  "
   ]
  },
  {
   "cell_type": "code",
   "execution_count": 11,
   "id": "33258f58-1db1-4a9c-8e0e-0c7537af5e33",
   "metadata": {},
   "outputs": [
    {
     "name": "stdout",
     "output_type": "stream",
     "text": [
      "Categorical encoding complete.\n"
     ]
    }
   ],
   "source": [
    "from sklearn.preprocessing import LabelEncoder\n",
    "\n",
    "categorical_features = ['Smoking', 'AlcoholConsumption', 'PhysicalActivity', 'DietQuality', 'SleepQuality']\n",
    "le = LabelEncoder()\n",
    "for col in categorical_features:\n",
    "    df[col] = le.fit_transform(df[col])\n",
    "\n",
    "print(\"Categorical encoding complete.\")"
   ]
  },
  {
   "cell_type": "code",
   "execution_count": 12,
   "id": "034501ab-7599-45e4-91f0-148a956930ca",
   "metadata": {},
   "outputs": [],
   "source": [
    "df = pd.get_dummies(df, columns=categorical_features, drop_first=True)"
   ]
  },
  {
   "cell_type": "code",
   "execution_count": 13,
   "id": "b46cdd9b-0c7f-434a-b11f-d73a0f52e828",
   "metadata": {},
   "outputs": [
    {
     "name": "stdout",
     "output_type": "stream",
     "text": [
      "Feature scaling complete.\n"
     ]
    }
   ],
   "source": [
    "from sklearn.preprocessing import StandardScaler\n",
    "\n",
    "scaler = StandardScaler()\n",
    "X_scaled = scaler.fit_transform(X)\n",
    "\n",
    "print(\"Feature scaling complete.\")"
   ]
  },
  {
   "cell_type": "code",
   "execution_count": 14,
   "id": "e7a2c699-3f32-4000-9973-18f8b362d69e",
   "metadata": {},
   "outputs": [
    {
     "name": "stdout",
     "output_type": "stream",
     "text": [
      "Training set size: (1719, 25)\n",
      "Testing set size: (430, 25)\n"
     ]
    }
   ],
   "source": [
    "from sklearn.model_selection import train_test_split\n",
    "\n",
    "# Splitting the dataset: 80% training, 20% testing\n",
    "X_train, X_test, y_train, y_test = train_test_split(X_scaled, y, test_size=0.2, random_state=42, stratify=y)\n",
    "\n",
    "print(f\"Training set size: {X_train.shape}\")\n",
    "print(f\"Testing set size: {X_test.shape}\")"
   ]
  },
  {
   "cell_type": "code",
   "execution_count": 15,
   "id": "ebdfeb2f-1aec-48b7-8456-69a09c840a68",
   "metadata": {},
   "outputs": [
    {
     "name": "stdout",
     "output_type": "stream",
     "text": [
      "Model training complete.\n"
     ]
    }
   ],
   "source": [
    "from sklearn.ensemble import RandomForestClassifier\n",
    "\n",
    "# Initialize the model\n",
    "model = RandomForestClassifier(n_estimators=100, random_state=42)\n",
    "\n",
    "# Train the model\n",
    "model.fit(X_train, y_train)\n",
    "\n",
    "print(\"Model training complete.\")"
   ]
  },
  {
   "cell_type": "code",
   "execution_count": 16,
   "id": "9b48f558-478b-42af-8eba-1862d5736188",
   "metadata": {},
   "outputs": [
    {
     "name": "stdout",
     "output_type": "stream",
     "text": [
      "Model Accuracy: 0.79\n",
      "Classification Report:\n",
      "               precision    recall  f1-score   support\n",
      "\n",
      "           0       0.82      0.86      0.84       278\n",
      "           1       0.72      0.66      0.69       152\n",
      "\n",
      "    accuracy                           0.79       430\n",
      "   macro avg       0.77      0.76      0.76       430\n",
      "weighted avg       0.79      0.79      0.79       430\n",
      "\n"
     ]
    },
    {
     "data": {
      "image/png": "[encoded data removed]",
      "text/plain": [
       "<Figure size 600x400 with 2 Axes>"
      ]
     },
     "metadata": {},
     "output_type": "display_data"
    }
   ],
   "source": [
    "from sklearn.metrics import accuracy_score, classification_report, confusion_matrix\n",
    "\n",
    "# Make predictions\n",
    "y_pred = model.predict(X_test)\n",
    "\n",
    "# Compute accuracy\n",
    "accuracy = accuracy_score(y_test, y_pred)\n",
    "print(f\"Model Accuracy: {accuracy:.2f}\")\n",
    "\n",
    "# Classification Report\n",
    "print(\"Classification Report:\\n\", classification_report(y_test, y_pred))\n",
    "\n",
    "# Confusion Matrix Visualization\n",
    "import seaborn as sns\n",
    "import matplotlib.pyplot as plt\n",
    "\n",
    "plt.figure(figsize=(6,4))\n",
    "sns.heatmap(confusion_matrix(y_test, y_pred), annot=True, fmt=\"d\", cmap=\"Blues\")\n",
    "plt.xlabel(\"Predicted Label\")\n",
    "plt.ylabel(\"Actual Label\")\n",
    "plt.title(\"Confusion Matrix\")\n",
    "plt.show()"
   ]
  },
  {
   "cell_type": "code",
   "execution_count": 17,
   "id": "058d4bcc-da07-4f5e-93ab-506643bb49cf",
   "metadata": {},
   "outputs": [
    {
     "name": "stdout",
     "output_type": "stream",
     "text": [
      "Best Parameters: {'max_depth': None, 'min_samples_split': 5, 'n_estimators': 50}\n",
      "Best Model Accuracy on Cross-validation: 0.7905891924876263\n",
      "Final Model Accuracy: 0.79\n"
     ]
    }
   ],
   "source": [
    "from sklearn.model_selection import GridSearchCV\n",
    "\n",
    "# Define hyperparameter grid\n",
    "param_grid = {\n",
    "    'n_estimators': [50, 100, 200],\n",
    "    'max_depth': [None, 10, 20],\n",
    "    'min_samples_split': [2, 5, 10]\n",
    "}\n",
    "\n",
    "# Perform Grid Search\n",
    "grid_search = GridSearchCV(RandomForestClassifier(random_state=42), param_grid, cv=5, n_jobs=-1)\n",
    "grid_search.fit(X_train, y_train)\n",
    "\n",
    "# Best Parameters and Score\n",
    "print(\"Best Parameters:\", grid_search.best_params_)\n",
    "print(\"Best Model Accuracy on Cross-validation:\", grid_search.best_score_)\n",
    "\n",
    "# Use the best model for final evaluation\n",
    "best_model = grid_search.best_estimator_\n",
    "final_accuracy = best_model.score(X_test, y_test)\n",
    "print(f\"Final Model Accuracy: {final_accuracy:.2f}\")"
   ]
  },
  {
   "cell_type": "code",
   "execution_count": 18,
   "id": "a61938a3-318d-4403-9b91-8b9d7edd66d6",
   "metadata": {},
   "outputs": [
    {
     "name": "stdout",
     "output_type": "stream",
     "text": [
      "Model and optimization results saved.\n"
     ]
    }
   ],
   "source": [
    "import joblib\n",
    "\n",
    "# Save the best model\n",
    "joblib.dump(best_model, \"alzheimers_prediction_model.pkl\")\n",
    "\n",
    "# Save model performance results\n",
    "optimization_results = pd.DataFrame(grid_search.cv_results_)\n",
    "optimization_results.to_csv(\"model_optimization_results.csv\", index=False)\n",
    "\n",
    "print(\"Model and optimization results saved.\")"
   ]
  },
  {
   "cell_type": "code",
   "execution_count": 20,
   "id": "1d6d909c-3833-4fc8-b498-66e69acd7bae",
   "metadata": {},
   "outputs": [
    {
     "name": "stdout",
     "output_type": "stream",
     "text": [
      "Predictions saved for Tableau visualization.\n"
     ]
    }
   ],
   "source": [
    "# Create a DataFrame with actual vs predicted diagnosis\n",
    "predictions_df = pd.DataFrame({\n",
    "    \"PatientID\": df.loc[y_test.index, 'PatientID'].values,  # Match Patient IDs correctly\n",
    "    \"Actual_Diagnosis\": y_test.values,\n",
    "    \"Predicted_Diagnosis\": y_pred\n",
    "})\n",
    "\n",
    "# Save to CSV for Tableau visualization\n",
    "predictions_df.to_csv(\"alzheimers_predictions.csv\", index=False)\n",
    "print(\"Predictions saved for Tableau visualization.\")"
   ]
  },
  {
   "cell_type": "code",
   "execution_count": 21,
   "id": "4b7520b6-44e4-4171-bdd2-3c6069cecd27",
   "metadata": {},
   "outputs": [
    {
     "name": "stdout",
     "output_type": "stream",
     "text": [
      "Feature importance saved for Tableau visualization.\n"
     ]
    }
   ],
   "source": [
    "# Extract feature importance from the best model\n",
    "feature_importance = pd.DataFrame({\n",
    "    \"Feature\": selected_features,\n",
    "    \"Importance\": best_model.feature_importances_\n",
    "}).sort_values(by=\"Importance\", ascending=False)\n",
    "\n",
    "# Save feature importance for Tableau\n",
    "feature_importance.to_csv(\"alzheimers_feature_importance.csv\", index=False)\n",
    "print(\"Feature importance saved for Tableau visualization.\")"
   ]
  },
  {
   "cell_type": "code",
   "execution_count": 22,
   "id": "7649f89d-1b19-4e69-ae20-fb3ea5efa361",
   "metadata": {},
   "outputs": [
    {
     "name": "stdout",
     "output_type": "stream",
     "text": [
      "Patient data saved for Tableau visualization.\n"
     ]
    }
   ],
   "source": [
    "# Select relevant patient demographic information\n",
    "demographics_df = df[['PatientID', 'Age', 'MMSE', 'FunctionalAssessment', 'MemoryComplaints', \n",
    "                      'BehavioralProblems', 'Confusion', 'Disorientation', 'PersonalityChanges',\n",
    "                      'DifficultyCompletingTasks', 'Forgetfulness', 'Diagnosis']]\n",
    "\n",
    "# Save for Tableau\n",
    "demographics_df.to_csv(\"alzheimers_patient_data.csv\", index=False)\n",
    "print(\"Patient data saved for Tableau visualization.\")"
   ]
  },
  {
   "cell_type": "code",
   "execution_count": null,
   "id": "49d5a89f-e9fe-4836-b8d8-2afc297f30ef",
   "metadata": {},
   "outputs": [],
   "source": []
  }
 ],
 "metadata": {
  "kernelspec": {
   "display_name": "Python 3 (ipykernel)",
   "language": "python",
   "name": "python3"
  },
  "language_info": {
   "codemirror_mode": {
    "name": "ipython",
    "version": 3
   },
   "file_extension": ".py",
   "mimetype": "text/x-python",
   "name": "python",
   "nbconvert_exporter": "python",
   "pygments_lexer": "ipython3",
   "version": "3.12.4"
  }
 },
 "nbformat": 4,
 "nbformat_minor": 5
}
